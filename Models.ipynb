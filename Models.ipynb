{
 "cells": [
  {
   "cell_type": "code",
   "execution_count": 1,
   "metadata": {},
   "outputs": [],
   "source": [
    "import pandas as pd\n",
    "import numpy as np\n",
    "from datetime import datetime\n",
    "from sklearn.model_selection import train_test_split\n",
    "from sklearn.preprocessing import Imputer\n",
    "from sklearn.linear_model import LogisticRegression\n",
    "from imblearn.over_sampling import SMOTE\n",
    "from sklearn.metrics import recall_score\n",
    "import matplotlib.pyplot as plt\n",
    "%matplotlib inline"
   ]
  },
  {
   "cell_type": "code",
   "execution_count": 2,
   "metadata": {},
   "outputs": [],
   "source": [
    "pd.options.display.max_rows = 65\n",
    "pd.options.display.max_columns = 65"
   ]
  },
  {
   "cell_type": "code",
   "execution_count": 3,
   "metadata": {},
   "outputs": [],
   "source": [
    "ooo = pd.read_excel('Desktop/testoutput3.xlsx', sheet_name = 'Sheet3')\n",
    "example = ooo\n",
    "example = pd.DataFrame({ 'Id' : ooo['Id'],  \n",
    "                         'Test_Date' : ooo['Date'], \n",
    "                         'Albumin' : ooo['Albumin'], \n",
    "                         'Alkaline Phosphatase' : ooo['Alkaline Phosphatase'], \n",
    "                         'Alpha Feto- Protein' : ooo['Alpha Feto- Protein'], \n",
    "                         'Basophils' : ooo['Basophils'], \n",
    "                         'Calcium' : ooo['Calcium'], \n",
    "                         'Carcino-embryonic Antigen' : ooo['Carcino-embryonic Antigen'], \n",
    "                         'Chloride' : ooo['Chloride'], \n",
    "                         'Creatinine' : ooo['Creatinine'], \n",
    "                         'Direct Bilirubin' : ooo['Direct Bilirubin'], \n",
    "                         'E.S.R' : ooo['E.S.R'], \n",
    "                         'Eosinophils' : ooo['Eosinophils'], \n",
    "                         'Free T 4' : ooo['Free T 4'], \n",
    "                         'Gamma Glutamyltransferase' : ooo['Gamma Glutamyltransferase'], \n",
    "                         'Globulin' : ooo['Globulin'], \n",
    "                         #'Glucose' : ooo['Glucose'], \n",
    "                         'HDL Cholesterol' : ooo['HDL Cholesterol'], \n",
    "                         'Haematocrit' : ooo['Haematocrit'], \n",
    "                         'Haemoglobin' : ooo['Haemoglobin'], \n",
    "                         'HbA1c' : ooo['HbA1c'], \n",
    "                         'Hepatitis A Antibodies' : ooo['Hepatitis A Antibodies'], \n",
    "                         'Hepatitis A Antigen' : ooo['Hepatitis A Antigen'], \n",
    "                         'Hepatitis Bs Antibodies' : ooo['Hepatitis Bs Antibodies'], \n",
    "                         'Inorganic Phosphate' : ooo['Inorganic Phosphate'], \n",
    "                         'LDL Cholesterol' : ooo['LDL Cholesterol'], \n",
    "                         'Lymphocytes' : ooo['Lymphocytes'], \n",
    "                         'MCH' : ooo['MCH'], \n",
    "                         'MCHC' : ooo['MCHC'], \n",
    "                         'MCV' : ooo['MCV'], \n",
    "                         'Monocytes' : ooo['Monocytes'], \n",
    "                         'Peipheral Blood film' : ooo['Peipheral Blood film'], \n",
    "                         'Platelet' : ooo['Platelet'], \n",
    "                         'Polymorph' : ooo['Polymorph'], \n",
    "                         'Potassium' : ooo['Potassium'], \n",
    "                         'Sodium' : ooo['Sodium'], \n",
    "                         'Stool Occult Blood' : ooo['Stool Occult Blood'], \n",
    "                         'T.Chol/HDL Cholesterol Ratio' : ooo['T.Chol/HDL Cholesterol Ratio'], \n",
    "                         'TSH' : ooo['TSH'], \n",
    "                         'Total Cholesterol' : ooo['Total Cholesterol'], \n",
    "                         'Total Protein' : ooo['Total Protein'], \n",
    "                         'Total Red Cell count' : ooo['Total Red Cell count'], \n",
    "                         'Total White Cell count' : ooo['Total White Cell count'], \n",
    "                         'Triglycerides' : ooo['Triglycerides'], \n",
    "                         'Urea' : ooo['Urea'], \n",
    "                         'Uric Acid' : ooo['Uric Acid'], \n",
    "                         'Urine Bilirubin' : ooo['Urine Bilirubin'], \n",
    "                         'Urine Blood' : ooo['Urine Blood'], \n",
    "                         'Urine Casts' : ooo['Urine Casts'], \n",
    "                         'Urine Crystal' : ooo['Urine Crystal'], \n",
    "                         'Urine Epithelial cell' : ooo['Urine Epithelial cell'], \n",
    "                         'Urine Glucose' : ooo['Urine Glucose'], \n",
    "                         'Urine Ketone' : ooo['Urine Ketone'], \n",
    "                         'Urine Micro organism' : ooo['Urine Micro organism'], \n",
    "                         'Urine Nitrite' : ooo['Urine Nitrite'], \n",
    "                         'Urine PH' : ooo['Urine PH'], \n",
    "                         'Urine Protein' : ooo['Urine Protein'], \n",
    "                         'Urine Red Blood Cell' : ooo['Urine Red Blood Cell'], \n",
    "                         'Urine Urobilinogen' : ooo['Urine Urobilinogen'], \n",
    "                         'Urine White Blood cell' : ooo['Urine White Blood cell'], \n",
    "                         'Urine specific gravity' : ooo['Urine specific gravity'], \n",
    "                         'Urine white blood cell' : ooo['Urine white blood cell'], \n",
    "                         'e GFR' : ooo['e GFR'], \n",
    "                         'Conclusion' : ooo['Conclusion']})"
   ]
  },
  {
   "cell_type": "code",
   "execution_count": 4,
   "metadata": {},
   "outputs": [
    {
     "data": {
      "text/plain": [
       "Desirable    505\n",
       "Low          147\n",
       "High         126\n",
       "Name: Conclusion, dtype: int64"
      ]
     },
     "execution_count": 4,
     "metadata": {},
     "output_type": "execute_result"
    }
   ],
   "source": [
    "example.Conclusion.value_counts()"
   ]
  },
  {
   "cell_type": "code",
   "execution_count": 5,
   "metadata": {},
   "outputs": [],
   "source": [
    "                    ######################## ######################## ######################## ########################\n",
    "                ####################### ######################## ######################## ########################\n",
    "            ###################### ######################## ######################## ########################\n",
    "        ##################### ######################## ######################## ########################\n",
    "    ################### ######################## ######################## ########################"
   ]
  },
  {
   "cell_type": "code",
   "execution_count": 6,
   "metadata": {},
   "outputs": [
    {
     "name": "stdout",
     "output_type": "stream",
     "text": [
      "Percentage of Low Glucose level is 18.894601542416453\n",
      "percentage of High Glucose level is 16.195372750642672\n",
      "Percentage of Desirable Glucose level is 64.91002570694087\n"
     ]
    }
   ],
   "source": [
    "conLow = len(example[example['Conclusion']=='Low'])\n",
    "conHigh = len(example[example['Conclusion']=='High'])\n",
    "conDesirable = len(example[example['Conclusion']=='Desirable'])\n",
    "pct_of_low = conLow/(conLow+conHigh+conDesirable)\n",
    "print(\"Percentage of Low Glucose level is\", pct_of_low*100)\n",
    "pct_of_high = conHigh/(conLow+conHigh+conDesirable)\n",
    "print(\"percentage of High Glucose level is\", pct_of_high*100)\n",
    "pct_of_desirable = conDesirable/(conLow+conHigh+conDesirable)\n",
    "print(\"Percentage of Desirable Glucose level is\", pct_of_desirable*100)"
   ]
  },
  {
   "cell_type": "code",
   "execution_count": 7,
   "metadata": {},
   "outputs": [
    {
     "data": {
      "text/html": [
       "<div>\n",
       "<style scoped>\n",
       "    .dataframe tbody tr th:only-of-type {\n",
       "        vertical-align: middle;\n",
       "    }\n",
       "\n",
       "    .dataframe tbody tr th {\n",
       "        vertical-align: top;\n",
       "    }\n",
       "\n",
       "    .dataframe thead th {\n",
       "        text-align: right;\n",
       "    }\n",
       "</style>\n",
       "<table border=\"1\" class=\"dataframe\">\n",
       "  <thead>\n",
       "    <tr style=\"text-align: right;\">\n",
       "      <th></th>\n",
       "      <th>Albumin</th>\n",
       "      <th>Alkaline Phosphatase</th>\n",
       "      <th>Alpha Feto- Protein</th>\n",
       "      <th>Basophils</th>\n",
       "      <th>Calcium</th>\n",
       "      <th>Carcino-embryonic Antigen</th>\n",
       "      <th>Chloride</th>\n",
       "      <th>Creatinine</th>\n",
       "      <th>Direct Bilirubin</th>\n",
       "      <th>E.S.R</th>\n",
       "      <th>Eosinophils</th>\n",
       "      <th>Free T 4</th>\n",
       "      <th>Gamma Glutamyltransferase</th>\n",
       "      <th>Globulin</th>\n",
       "      <th>HDL Cholesterol</th>\n",
       "      <th>Haematocrit</th>\n",
       "      <th>Haemoglobin</th>\n",
       "      <th>HbA1c</th>\n",
       "      <th>Hepatitis A Antibodies</th>\n",
       "      <th>Hepatitis A Antigen</th>\n",
       "      <th>Hepatitis Bs Antibodies</th>\n",
       "      <th>Inorganic Phosphate</th>\n",
       "      <th>LDL Cholesterol</th>\n",
       "      <th>Lymphocytes</th>\n",
       "      <th>MCH</th>\n",
       "      <th>MCHC</th>\n",
       "      <th>MCV</th>\n",
       "      <th>Monocytes</th>\n",
       "      <th>Peipheral Blood film</th>\n",
       "      <th>Platelet</th>\n",
       "      <th>Polymorph</th>\n",
       "      <th>Potassium</th>\n",
       "      <th>Sodium</th>\n",
       "      <th>Stool Occult Blood</th>\n",
       "      <th>T.Chol/HDL Cholesterol Ratio</th>\n",
       "      <th>TSH</th>\n",
       "      <th>Total Cholesterol</th>\n",
       "      <th>Total Protein</th>\n",
       "      <th>Total Red Cell count</th>\n",
       "      <th>Total White Cell count</th>\n",
       "      <th>Triglycerides</th>\n",
       "      <th>Urea</th>\n",
       "      <th>Uric Acid</th>\n",
       "      <th>Urine Bilirubin</th>\n",
       "      <th>Urine Blood</th>\n",
       "      <th>Urine Casts</th>\n",
       "      <th>Urine Crystal</th>\n",
       "      <th>Urine Epithelial cell</th>\n",
       "      <th>Urine Glucose</th>\n",
       "      <th>Urine Ketone</th>\n",
       "      <th>Urine Micro organism</th>\n",
       "      <th>Urine Nitrite</th>\n",
       "      <th>Urine PH</th>\n",
       "      <th>Urine Protein</th>\n",
       "      <th>Urine Red Blood Cell</th>\n",
       "      <th>Urine Urobilinogen</th>\n",
       "      <th>Urine White Blood cell</th>\n",
       "      <th>Urine specific gravity</th>\n",
       "      <th>Urine white blood cell</th>\n",
       "      <th>e GFR</th>\n",
       "    </tr>\n",
       "    <tr>\n",
       "      <th>Conclusion</th>\n",
       "      <th></th>\n",
       "      <th></th>\n",
       "      <th></th>\n",
       "      <th></th>\n",
       "      <th></th>\n",
       "      <th></th>\n",
       "      <th></th>\n",
       "      <th></th>\n",
       "      <th></th>\n",
       "      <th></th>\n",
       "      <th></th>\n",
       "      <th></th>\n",
       "      <th></th>\n",
       "      <th></th>\n",
       "      <th></th>\n",
       "      <th></th>\n",
       "      <th></th>\n",
       "      <th></th>\n",
       "      <th></th>\n",
       "      <th></th>\n",
       "      <th></th>\n",
       "      <th></th>\n",
       "      <th></th>\n",
       "      <th></th>\n",
       "      <th></th>\n",
       "      <th></th>\n",
       "      <th></th>\n",
       "      <th></th>\n",
       "      <th></th>\n",
       "      <th></th>\n",
       "      <th></th>\n",
       "      <th></th>\n",
       "      <th></th>\n",
       "      <th></th>\n",
       "      <th></th>\n",
       "      <th></th>\n",
       "      <th></th>\n",
       "      <th></th>\n",
       "      <th></th>\n",
       "      <th></th>\n",
       "      <th></th>\n",
       "      <th></th>\n",
       "      <th></th>\n",
       "      <th></th>\n",
       "      <th></th>\n",
       "      <th></th>\n",
       "      <th></th>\n",
       "      <th></th>\n",
       "      <th></th>\n",
       "      <th></th>\n",
       "      <th></th>\n",
       "      <th></th>\n",
       "      <th></th>\n",
       "      <th></th>\n",
       "      <th></th>\n",
       "      <th></th>\n",
       "      <th></th>\n",
       "      <th></th>\n",
       "      <th></th>\n",
       "      <th></th>\n",
       "    </tr>\n",
       "  </thead>\n",
       "  <tbody>\n",
       "    <tr>\n",
       "      <th>Desirable</th>\n",
       "      <td>4.276309</td>\n",
       "      <td>67.852941</td>\n",
       "      <td>2.675048</td>\n",
       "      <td>0.546512</td>\n",
       "      <td>9.271131</td>\n",
       "      <td>2.200521</td>\n",
       "      <td>104.575676</td>\n",
       "      <td>0.806897</td>\n",
       "      <td>0.776917</td>\n",
       "      <td>24.164835</td>\n",
       "      <td>3.189406</td>\n",
       "      <td>14.114508</td>\n",
       "      <td>34.659631</td>\n",
       "      <td>3.022039</td>\n",
       "      <td>55.410377</td>\n",
       "      <td>42.023256</td>\n",
       "      <td>13.636434</td>\n",
       "      <td>NaN</td>\n",
       "      <td>0.0</td>\n",
       "      <td>0.0</td>\n",
       "      <td>0.0</td>\n",
       "      <td>3.428060</td>\n",
       "      <td>132.555556</td>\n",
       "      <td>33.468734</td>\n",
       "      <td>29.330749</td>\n",
       "      <td>32.630491</td>\n",
       "      <td>90.108527</td>\n",
       "      <td>7.767959</td>\n",
       "      <td>0.0</td>\n",
       "      <td>270.077519</td>\n",
       "      <td>55.027390</td>\n",
       "      <td>3.930270</td>\n",
       "      <td>139.972973</td>\n",
       "      <td>0.0</td>\n",
       "      <td>4.019245</td>\n",
       "      <td>1.922421</td>\n",
       "      <td>211.313679</td>\n",
       "      <td>7.298347</td>\n",
       "      <td>4.678109</td>\n",
       "      <td>6.665633</td>\n",
       "      <td>120.948113</td>\n",
       "      <td>27.305211</td>\n",
       "      <td>5.595320</td>\n",
       "      <td>0.0</td>\n",
       "      <td>0.0</td>\n",
       "      <td>0.0</td>\n",
       "      <td>0.0</td>\n",
       "      <td>0.0</td>\n",
       "      <td>0.0</td>\n",
       "      <td>0.0</td>\n",
       "      <td>0.0</td>\n",
       "      <td>0.0</td>\n",
       "      <td>6.246637</td>\n",
       "      <td>0.0</td>\n",
       "      <td>0.0</td>\n",
       "      <td>0.0</td>\n",
       "      <td>0.0</td>\n",
       "      <td>1.015493</td>\n",
       "      <td>0.0</td>\n",
       "      <td>2.424324</td>\n",
       "    </tr>\n",
       "    <tr>\n",
       "      <th>High</th>\n",
       "      <td>4.262162</td>\n",
       "      <td>85.088889</td>\n",
       "      <td>3.569545</td>\n",
       "      <td>0.619643</td>\n",
       "      <td>9.320513</td>\n",
       "      <td>3.108696</td>\n",
       "      <td>103.372549</td>\n",
       "      <td>0.867213</td>\n",
       "      <td>0.807727</td>\n",
       "      <td>24.076923</td>\n",
       "      <td>2.489286</td>\n",
       "      <td>15.408000</td>\n",
       "      <td>65.622222</td>\n",
       "      <td>2.994595</td>\n",
       "      <td>51.246377</td>\n",
       "      <td>42.375000</td>\n",
       "      <td>13.775439</td>\n",
       "      <td>6.3</td>\n",
       "      <td>0.0</td>\n",
       "      <td>0.0</td>\n",
       "      <td>0.0</td>\n",
       "      <td>3.407692</td>\n",
       "      <td>134.579710</td>\n",
       "      <td>32.550000</td>\n",
       "      <td>29.339286</td>\n",
       "      <td>32.642857</td>\n",
       "      <td>90.071429</td>\n",
       "      <td>6.832143</td>\n",
       "      <td>0.0</td>\n",
       "      <td>255.553571</td>\n",
       "      <td>57.508929</td>\n",
       "      <td>4.130769</td>\n",
       "      <td>139.549020</td>\n",
       "      <td>0.0</td>\n",
       "      <td>4.419565</td>\n",
       "      <td>6.011197</td>\n",
       "      <td>219.405797</td>\n",
       "      <td>7.256757</td>\n",
       "      <td>4.717143</td>\n",
       "      <td>8.044643</td>\n",
       "      <td>169.811594</td>\n",
       "      <td>29.311475</td>\n",
       "      <td>6.021154</td>\n",
       "      <td>0.0</td>\n",
       "      <td>0.0</td>\n",
       "      <td>0.0</td>\n",
       "      <td>0.0</td>\n",
       "      <td>0.0</td>\n",
       "      <td>0.0</td>\n",
       "      <td>0.0</td>\n",
       "      <td>0.0</td>\n",
       "      <td>0.0</td>\n",
       "      <td>5.764706</td>\n",
       "      <td>0.0</td>\n",
       "      <td>0.0</td>\n",
       "      <td>0.0</td>\n",
       "      <td>0.0</td>\n",
       "      <td>1.017794</td>\n",
       "      <td>0.0</td>\n",
       "      <td>5.306122</td>\n",
       "    </tr>\n",
       "    <tr>\n",
       "      <th>Low</th>\n",
       "      <td>4.292308</td>\n",
       "      <td>70.095238</td>\n",
       "      <td>3.734000</td>\n",
       "      <td>0.553488</td>\n",
       "      <td>9.550000</td>\n",
       "      <td>1.320000</td>\n",
       "      <td>104.181818</td>\n",
       "      <td>0.800000</td>\n",
       "      <td>0.795238</td>\n",
       "      <td>32.421053</td>\n",
       "      <td>2.195349</td>\n",
       "      <td>15.695581</td>\n",
       "      <td>54.333333</td>\n",
       "      <td>3.130769</td>\n",
       "      <td>52.000000</td>\n",
       "      <td>37.790698</td>\n",
       "      <td>12.186047</td>\n",
       "      <td>NaN</td>\n",
       "      <td>0.0</td>\n",
       "      <td>0.0</td>\n",
       "      <td>0.0</td>\n",
       "      <td>3.250000</td>\n",
       "      <td>137.583333</td>\n",
       "      <td>27.748837</td>\n",
       "      <td>27.837209</td>\n",
       "      <td>32.325581</td>\n",
       "      <td>85.906977</td>\n",
       "      <td>7.553488</td>\n",
       "      <td>0.0</td>\n",
       "      <td>313.697674</td>\n",
       "      <td>61.948837</td>\n",
       "      <td>4.354545</td>\n",
       "      <td>139.545455</td>\n",
       "      <td>0.0</td>\n",
       "      <td>4.181667</td>\n",
       "      <td>3.680966</td>\n",
       "      <td>211.916667</td>\n",
       "      <td>7.423077</td>\n",
       "      <td>4.399302</td>\n",
       "      <td>9.062791</td>\n",
       "      <td>113.750000</td>\n",
       "      <td>27.444444</td>\n",
       "      <td>6.992308</td>\n",
       "      <td>0.0</td>\n",
       "      <td>0.0</td>\n",
       "      <td>0.0</td>\n",
       "      <td>0.0</td>\n",
       "      <td>0.0</td>\n",
       "      <td>0.0</td>\n",
       "      <td>0.0</td>\n",
       "      <td>0.0</td>\n",
       "      <td>0.0</td>\n",
       "      <td>6.416667</td>\n",
       "      <td>0.0</td>\n",
       "      <td>0.0</td>\n",
       "      <td>0.0</td>\n",
       "      <td>0.0</td>\n",
       "      <td>1.015556</td>\n",
       "      <td>0.0</td>\n",
       "      <td>0.000000</td>\n",
       "    </tr>\n",
       "  </tbody>\n",
       "</table>\n",
       "</div>"
      ],
      "text/plain": [
       "             Albumin  Alkaline Phosphatase  Alpha Feto- Protein  Basophils  \\\n",
       "Conclusion                                                                   \n",
       "Desirable   4.276309             67.852941             2.675048   0.546512   \n",
       "High        4.262162             85.088889             3.569545   0.619643   \n",
       "Low         4.292308             70.095238             3.734000   0.553488   \n",
       "\n",
       "             Calcium  Carcino-embryonic Antigen    Chloride  Creatinine  \\\n",
       "Conclusion                                                                \n",
       "Desirable   9.271131                   2.200521  104.575676    0.806897   \n",
       "High        9.320513                   3.108696  103.372549    0.867213   \n",
       "Low         9.550000                   1.320000  104.181818    0.800000   \n",
       "\n",
       "            Direct Bilirubin      E.S.R  Eosinophils   Free T 4  \\\n",
       "Conclusion                                                        \n",
       "Desirable           0.776917  24.164835     3.189406  14.114508   \n",
       "High                0.807727  24.076923     2.489286  15.408000   \n",
       "Low                 0.795238  32.421053     2.195349  15.695581   \n",
       "\n",
       "            Gamma Glutamyltransferase  Globulin  HDL Cholesterol  Haematocrit  \\\n",
       "Conclusion                                                                      \n",
       "Desirable                   34.659631  3.022039        55.410377    42.023256   \n",
       "High                        65.622222  2.994595        51.246377    42.375000   \n",
       "Low                         54.333333  3.130769        52.000000    37.790698   \n",
       "\n",
       "            Haemoglobin  HbA1c  Hepatitis A Antibodies  Hepatitis A Antigen  \\\n",
       "Conclusion                                                                    \n",
       "Desirable     13.636434    NaN                     0.0                  0.0   \n",
       "High          13.775439    6.3                     0.0                  0.0   \n",
       "Low           12.186047    NaN                     0.0                  0.0   \n",
       "\n",
       "            Hepatitis Bs Antibodies  Inorganic Phosphate  LDL Cholesterol  \\\n",
       "Conclusion                                                                  \n",
       "Desirable                       0.0             3.428060       132.555556   \n",
       "High                            0.0             3.407692       134.579710   \n",
       "Low                             0.0             3.250000       137.583333   \n",
       "\n",
       "            Lymphocytes        MCH       MCHC        MCV  Monocytes  \\\n",
       "Conclusion                                                            \n",
       "Desirable     33.468734  29.330749  32.630491  90.108527   7.767959   \n",
       "High          32.550000  29.339286  32.642857  90.071429   6.832143   \n",
       "Low           27.748837  27.837209  32.325581  85.906977   7.553488   \n",
       "\n",
       "            Peipheral Blood film    Platelet  Polymorph  Potassium  \\\n",
       "Conclusion                                                           \n",
       "Desirable                    0.0  270.077519  55.027390   3.930270   \n",
       "High                         0.0  255.553571  57.508929   4.130769   \n",
       "Low                          0.0  313.697674  61.948837   4.354545   \n",
       "\n",
       "                Sodium  Stool Occult Blood  T.Chol/HDL Cholesterol Ratio  \\\n",
       "Conclusion                                                                 \n",
       "Desirable   139.972973                 0.0                      4.019245   \n",
       "High        139.549020                 0.0                      4.419565   \n",
       "Low         139.545455                 0.0                      4.181667   \n",
       "\n",
       "                 TSH  Total Cholesterol  Total Protein  Total Red Cell count  \\\n",
       "Conclusion                                                                     \n",
       "Desirable   1.922421         211.313679       7.298347              4.678109   \n",
       "High        6.011197         219.405797       7.256757              4.717143   \n",
       "Low         3.680966         211.916667       7.423077              4.399302   \n",
       "\n",
       "            Total White Cell count  Triglycerides       Urea  Uric Acid  \\\n",
       "Conclusion                                                                \n",
       "Desirable                 6.665633     120.948113  27.305211   5.595320   \n",
       "High                      8.044643     169.811594  29.311475   6.021154   \n",
       "Low                       9.062791     113.750000  27.444444   6.992308   \n",
       "\n",
       "            Urine Bilirubin  Urine Blood  Urine Casts  Urine Crystal  \\\n",
       "Conclusion                                                             \n",
       "Desirable               0.0          0.0          0.0            0.0   \n",
       "High                    0.0          0.0          0.0            0.0   \n",
       "Low                     0.0          0.0          0.0            0.0   \n",
       "\n",
       "            Urine Epithelial cell  Urine Glucose  Urine Ketone  \\\n",
       "Conclusion                                                       \n",
       "Desirable                     0.0            0.0           0.0   \n",
       "High                          0.0            0.0           0.0   \n",
       "Low                           0.0            0.0           0.0   \n",
       "\n",
       "            Urine Micro organism  Urine Nitrite  Urine PH  Urine Protein  \\\n",
       "Conclusion                                                                 \n",
       "Desirable                    0.0            0.0  6.246637            0.0   \n",
       "High                         0.0            0.0  5.764706            0.0   \n",
       "Low                          0.0            0.0  6.416667            0.0   \n",
       "\n",
       "            Urine Red Blood Cell  Urine Urobilinogen  Urine White Blood cell  \\\n",
       "Conclusion                                                                     \n",
       "Desirable                    0.0                 0.0                     0.0   \n",
       "High                         0.0                 0.0                     0.0   \n",
       "Low                          0.0                 0.0                     0.0   \n",
       "\n",
       "            Urine specific gravity  Urine white blood cell     e GFR  \n",
       "Conclusion                                                            \n",
       "Desirable                 1.015493                     0.0  2.424324  \n",
       "High                      1.017794                     0.0  5.306122  \n",
       "Low                       1.015556                     0.0  0.000000  "
      ]
     },
     "execution_count": 7,
     "metadata": {},
     "output_type": "execute_result"
    }
   ],
   "source": [
    "example.groupby('Conclusion').mean()"
   ]
  },
  {
   "cell_type": "code",
   "execution_count": 8,
   "metadata": {},
   "outputs": [
    {
     "name": "stderr",
     "output_type": "stream",
     "text": [
      "C:\\Users\\L30907\\AppData\\Local\\Continuum\\anaconda3\\lib\\site-packages\\sklearn\\preprocessing\\data.py:323: DataConversionWarning: Data with input dtype bool were all converted to float64 by MinMaxScaler.\n",
      "  return self.partial_fit(X, y)\n"
     ]
    }
   ],
   "source": [
    "# feature_names does not include Glucose\n",
    "feature_names = ['Albumin', 'Alkaline Phosphatase', 'Alpha Feto- Protein', 'Basophils', 'Calcium', 'Carcino-embryonic Antigen', 'Chloride', 'Creatinine', 'Direct Bilirubin', 'E.S.R', 'Eosinophils', 'Free T 4', 'Gamma Glutamyltransferase', 'Globulin', 'HDL Cholesterol', 'Haematocrit', 'Haemoglobin', 'HbA1c', 'Hepatitis A Antibodies', 'Hepatitis A Antigen', 'Hepatitis Bs Antibodies', 'Inorganic Phosphate', 'LDL Cholesterol', 'Lymphocytes', 'MCH', 'MCHC', 'MCV', 'Monocytes', 'Peipheral Blood film', 'Platelet', 'Polymorph', 'Potassium', 'Sodium', 'Stool Occult Blood', 'T.Chol/HDL Cholesterol Ratio', 'TSH', 'Total Cholesterol', 'Total Protein', 'Total Red Cell count', 'Total White Cell count', 'Triglycerides', 'Urea', 'Uric Acid', 'Urine Bilirubin', 'Urine Blood', 'Urine Casts', 'Urine Crystal', 'Urine Epithelial cell', 'Urine Glucose', 'Urine Ketone', 'Urine Micro organism', 'Urine Nitrite', 'Urine PH', 'Urine Protein', 'Urine Red Blood Cell', 'Urine Urobilinogen', 'Urine White Blood cell', 'Urine specific gravity', 'Urine white blood cell', 'e GFR']\n",
    "\n",
    "X = example[feature_names].notnull()\n",
    "y = example['Conclusion']\n",
    "\n",
    "X_train, X_test, y_train, y_test = train_test_split(X, y, random_state=0)\n",
    "from sklearn.preprocessing import MinMaxScaler\n",
    "scaler = MinMaxScaler()\n",
    "X_train = scaler.fit_transform(X_train)\n",
    "X_test = scaler.transform(X_test)\n",
    "X = example[feature_names].notnull()\n",
    "y = example['Conclusion']"
   ]
  },
  {
   "cell_type": "code",
   "execution_count": 9,
   "metadata": {},
   "outputs": [
    {
     "name": "stdout",
     "output_type": "stream",
     "text": [
      "Accuracy of Logistic regression classifier on training set: 0.77\n",
      "Accuracy of Logistic regression classifier on test set: 0.61\n"
     ]
    },
    {
     "name": "stderr",
     "output_type": "stream",
     "text": [
      "C:\\Users\\L30907\\AppData\\Local\\Continuum\\anaconda3\\lib\\site-packages\\sklearn\\linear_model\\logistic.py:432: FutureWarning: Default solver will be changed to 'lbfgs' in 0.22. Specify a solver to silence this warning.\n",
      "  FutureWarning)\n",
      "C:\\Users\\L30907\\AppData\\Local\\Continuum\\anaconda3\\lib\\site-packages\\sklearn\\linear_model\\logistic.py:459: FutureWarning: Default multi_class will be changed to 'auto' in 0.22. Specify the multi_class option to silence this warning.\n",
      "  \"this warning.\", FutureWarning)\n"
     ]
    }
   ],
   "source": [
    "logreg = LogisticRegression()\n",
    "logreg.fit(X_train, y_train)\n",
    "print('Accuracy of Logistic regression classifier on training set: {:.2f}'.format(logreg .score(X_train, y_train)))\n",
    "print('Accuracy of Logistic regression classifier on test set: {:.2f}'.format(logreg.score(X_test, y_test)))"
   ]
  },
  {
   "cell_type": "code",
   "execution_count": 10,
   "metadata": {
    "scrolled": true
   },
   "outputs": [
    {
     "data": {
      "text/plain": [
       "array([[ 0.24768186, -0.13030282, -0.49228517,  0.05275084,  0.16110548,\n",
       "         0.59768594, -0.22157359,  0.39667192,  0.31547661,  0.53472981,\n",
       "         0.05275084,  0.31433539,  0.22087603,  0.24768186,  0.39294811,\n",
       "         0.05275084, -0.20048902, -0.39456403, -0.56872833, -0.29394805,\n",
       "         0.319021  ,  0.03617508, -0.17550923,  0.05275084,  0.05275084,\n",
       "         0.05275084,  0.05275084,  0.05275084, -0.35540098,  0.05275084,\n",
       "         0.05275084, -0.22157359, -0.22157359, -0.49926107,  0.39294811,\n",
       "         0.14356167,  0.39294811,  0.24768186,  0.05275084,  0.05275084,\n",
       "         0.39294811, -0.25624613,  1.0766865 ,  0.03448649,  0.03448649,\n",
       "         0.03448649,  0.03448649,  0.03448649,  0.03448649,  0.03448649,\n",
       "         0.03448649,  0.03448649,  0.03448649,  0.03448649,  0.03448649,\n",
       "         0.03448649,  0.03448649,  0.03448649,  0.03448649, -0.259546  ],\n",
       "       [-0.61476344,  0.5054384 ,  0.39674606, -0.08011961,  0.78105982,\n",
       "         0.63490509,  0.31241962,  0.05541416, -0.1309178 , -0.5658208 ,\n",
       "        -0.08011961, -0.51030679, -0.49150689, -0.61476344, -0.04490387,\n",
       "        -0.08011961,  0.52039571,  0.52267808,  0.05408751, -0.26969666,\n",
       "        -0.2836782 ,  0.91142085,  0.31885985, -0.08011961, -0.08011961,\n",
       "        -0.08011961, -0.08011961, -0.08011961, -0.65145034, -0.08011961,\n",
       "        -0.08011961,  0.31241962,  0.31241962,  0.26884405, -0.04490387,\n",
       "        -0.66562957, -0.04490387, -0.61476344, -0.08011961, -0.08011961,\n",
       "        -0.04490387,  0.28827091, -0.91258312, -0.01100118, -0.01100118,\n",
       "        -0.01100118, -0.01100118, -0.01100118, -0.01100118, -0.01100118,\n",
       "        -0.01100118, -0.01100118, -0.01100118, -0.01100118, -0.01100118,\n",
       "        -0.01100118, -0.01100118, -0.01100118, -0.01100118,  0.26299135],\n",
       "       [ 0.2605151 , -0.21670935,  0.1063475 ,  0.01716206, -0.99184045,\n",
       "        -1.24316882, -0.01288779, -0.81488538, -0.08514339, -0.12176828,\n",
       "         0.01716206,  0.04731594, -0.12220099,  0.2605151 , -0.47052535,\n",
       "         0.01716206, -0.30247677, -0.09805907,  0.5140782 ,  0.47980744,\n",
       "        -0.20378483, -0.9814216 , -0.30486386,  0.01716206,  0.01716206,\n",
       "         0.01716206,  0.01716206,  0.01716206,  0.7651984 ,  0.01716206,\n",
       "         0.01716206, -0.01288779, -0.01288779,  0.53081853, -0.47052535,\n",
       "         0.3384432 , -0.47052535,  0.2605151 ,  0.01716206,  0.01716206,\n",
       "        -0.47052535, -0.48540287, -0.43698602, -0.03266613, -0.03266613,\n",
       "        -0.03266613, -0.03266613, -0.03266613, -0.03266613, -0.03266613,\n",
       "        -0.03266613, -0.03266613, -0.03266613, -0.03266613, -0.03266613,\n",
       "        -0.03266613, -0.03266613, -0.03266613, -0.03266613,  0.27504335]])"
      ]
     },
     "execution_count": 10,
     "metadata": {},
     "output_type": "execute_result"
    }
   ],
   "source": [
    "# Larger number (irregardless of +/-) = Most importance\n",
    "logreg.coef_"
   ]
  },
  {
   "cell_type": "code",
   "execution_count": 11,
   "metadata": {},
   "outputs": [
    {
     "data": {
      "text/plain": [
       "array([42,  5, 18,  9, 33,  2,  7, 17, 40, 34, 36, 14, 28, 20,  8, 11, 19,\n",
       "       59, 41, 37, 13,  0, 32, 31,  6, 12, 16, 22,  4, 35,  1, 38,  3, 10,\n",
       "       15, 39, 29, 23, 24, 25, 26, 30, 27, 21, 54, 43, 57, 44, 56, 58, 55,\n",
       "       52, 53, 45, 51, 50, 49, 47, 46, 48], dtype=int32)"
      ]
     },
     "execution_count": 11,
     "metadata": {},
     "output_type": "execute_result"
    }
   ],
   "source": [
    "# Sort based on Most importance of Low\n",
    "coefs = np.abs(logreg.coef_[0])\n",
    "indicesDesirable = np.argsort(coefs)[::-1]\n",
    "indicesDesirable"
   ]
  },
  {
   "cell_type": "code",
   "execution_count": 12,
   "metadata": {},
   "outputs": [
    {
     "data": {
      "image/png": "[encoded data removed]",
      "text/plain": [
       "<Figure size 432x288 with 1 Axes>"
      ]
     },
     "metadata": {},
     "output_type": "display_data"
    }
   ],
   "source": [
    "# Indices starts from 0\n",
    "\n",
    "plt.figure()\n",
    "plt.title(\"Feature importances (Conclusion: Desirable)\")\n",
    "plt.bar(range(10), coefs[indicesDesirable[:10]], color=\"r\", align=\"center\")\n",
    "plt.xticks(range(10), X.columns[indicesDesirable[:10]-1], rotation=45, ha='right')\n",
    "plt.subplots_adjust(bottom=0.3)"
   ]
  },
  {
   "cell_type": "code",
   "execution_count": 13,
   "metadata": {},
   "outputs": [
    {
     "data": {
      "text/plain": [
       "array([42, 21,  4, 35, 28,  5,  0, 13, 37,  9, 17, 16, 11,  1, 12,  2, 22,\n",
       "        6, 31, 32, 41, 20, 19, 33, 59,  8, 29, 25, 15, 10, 23, 24, 26, 27,\n",
       "        3, 30, 39, 38,  7, 18, 36, 14, 34, 40, 48, 57, 56, 58, 55, 54, 53,\n",
       "       43, 46, 52, 44, 51, 50, 49, 45, 47], dtype=int32)"
      ]
     },
     "execution_count": 13,
     "metadata": {},
     "output_type": "execute_result"
    }
   ],
   "source": [
    "# Sort based on Most importance of High\n",
    "coefs = np.abs(logreg.coef_[1])\n",
    "indicesHigh = np.argsort(coefs)[::-1]\n",
    "indicesHigh"
   ]
  },
  {
   "cell_type": "code",
   "execution_count": 14,
   "metadata": {},
   "outputs": [
    {
     "data": {
      "image/png": "[encoded data removed]",
      "text/plain": [
       "<Figure size 432x288 with 1 Axes>"
      ]
     },
     "metadata": {},
     "output_type": "display_data"
    }
   ],
   "source": [
    "# Indices starts from 0\n",
    "\n",
    "plt.figure()\n",
    "plt.title(\"Feature importances (Conclusion: High)\")\n",
    "plt.bar(range(10), coefs[indicesHigh[:10]], color=\"r\", align=\"center\")\n",
    "plt.xticks(range(10), X.columns[indicesHigh[:10]-1], rotation=45, ha='right')\n",
    "plt.subplots_adjust(bottom=0.3)"
   ]
  },
  {
   "cell_type": "code",
   "execution_count": 15,
   "metadata": {},
   "outputs": [
    {
     "data": {
      "text/plain": [
       "array([ 5,  4, 21,  7, 28, 33, 18, 41, 19, 36, 34, 40, 14, 42, 35, 22, 16,\n",
       "       59, 37, 13,  0,  1, 20, 12,  9,  2, 17,  8, 11, 50, 53, 52, 51, 49,\n",
       "       48, 55, 56, 57, 47, 58, 46, 45, 44, 43, 54, 10,  3, 38, 15, 39, 23,\n",
       "       24, 25, 26, 27, 30, 29,  6, 31, 32], dtype=int32)"
      ]
     },
     "execution_count": 15,
     "metadata": {},
     "output_type": "execute_result"
    }
   ],
   "source": [
    "# Sort based on Most importance of Desirable\n",
    "coefs = np.abs(logreg.coef_[2])\n",
    "indicesLow = np.argsort(coefs)[::-1]\n",
    "indicesLow"
   ]
  },
  {
   "cell_type": "code",
   "execution_count": 16,
   "metadata": {},
   "outputs": [
    {
     "data": {
      "image/png": "[encoded data removed]",
      "text/plain": [
       "<Figure size 432x288 with 1 Axes>"
      ]
     },
     "metadata": {},
     "output_type": "display_data"
    }
   ],
   "source": [
    "# Indices starts from 0\n",
    "\n",
    "plt.figure()\n",
    "plt.title(\"Feature importances (Conclusion: Low)\")\n",
    "plt.bar(range(10), coefs[indicesLow[:10]], color=\"r\", align=\"center\")\n",
    "plt.xticks(range(10), X.columns[indicesLow[:10]-1], rotation=45, ha='right')\n",
    "plt.subplots_adjust(bottom=0.3)"
   ]
  },
  {
   "cell_type": "code",
   "execution_count": 17,
   "metadata": {
    "scrolled": true
   },
   "outputs": [
    {
     "name": "stdout",
     "output_type": "stream",
     "text": [
      "[[93  5 23]\n",
      " [21  2 16]\n",
      " [ 9  2 24]]\n",
      "              precision    recall  f1-score   support\n",
      "\n",
      "   Desirable       0.76      0.77      0.76       121\n",
      "        High       0.22      0.05      0.08        39\n",
      "         Low       0.38      0.69      0.49        35\n",
      "\n",
      "   micro avg       0.61      0.61      0.61       195\n",
      "   macro avg       0.45      0.50      0.45       195\n",
      "weighted avg       0.58      0.61      0.58       195\n",
      "\n"
     ]
    }
   ],
   "source": [
    "from sklearn.metrics import classification_report\n",
    "from sklearn.metrics import confusion_matrix\n",
    "pred = logreg.predict(X_test)\n",
    "print(confusion_matrix(y_test, pred))\n",
    "print(classification_report(y_test, pred))"
   ]
  },
  {
   "cell_type": "code",
   "execution_count": 18,
   "metadata": {},
   "outputs": [
    {
     "name": "stdout",
     "output_type": "stream",
     "text": [
      "Accuracy of Decision Tree classifier on training set: 0.81\n",
      "Accuracy of Decision Tree classifier on test set: 0.65\n"
     ]
    }
   ],
   "source": [
    "from sklearn.tree import DecisionTreeClassifier\n",
    "clf = DecisionTreeClassifier().fit(X_train, y_train)\n",
    "print('Accuracy of Decision Tree classifier on training set: {:.2f}'.format(clf.score(X_train, y_train)))\n",
    "print('Accuracy of Decision Tree classifier on test set: {:.2f}'.format(clf.score(X_test, y_test)))"
   ]
  },
  {
   "cell_type": "code",
   "execution_count": 19,
   "metadata": {},
   "outputs": [
    {
     "name": "stdout",
     "output_type": "stream",
     "text": [
      "Accuracy of K-NN classifier on training set: 0.76\n",
      "Accuracy of K-NN classifier on test set: 0.62\n"
     ]
    }
   ],
   "source": [
    "from sklearn.neighbors import KNeighborsClassifier\n",
    "knn = KNeighborsClassifier()\n",
    "knn.fit(X_train, y_train)\n",
    "print('Accuracy of K-NN classifier on training set: {:.2f}'.format(knn.score(X_train, y_train)))\n",
    "print('Accuracy of K-NN classifier on test set: {:.2f}'.format(knn.score(X_test, y_test)))"
   ]
  },
  {
   "cell_type": "code",
   "execution_count": 20,
   "metadata": {},
   "outputs": [
    {
     "name": "stdout",
     "output_type": "stream",
     "text": [
      "Accuracy of LDA classifier on training set: 0.77\n",
      "Accuracy of LDA classifier on test set: 0.62\n"
     ]
    },
    {
     "name": "stderr",
     "output_type": "stream",
     "text": [
      "C:\\Users\\L30907\\AppData\\Local\\Continuum\\anaconda3\\lib\\site-packages\\sklearn\\discriminant_analysis.py:388: UserWarning: Variables are collinear.\n",
      "  warnings.warn(\"Variables are collinear.\")\n"
     ]
    }
   ],
   "source": [
    "from sklearn.discriminant_analysis import LinearDiscriminantAnalysis\n",
    "lda = LinearDiscriminantAnalysis()\n",
    "lda.fit(X_train, y_train)\n",
    "print('Accuracy of LDA classifier on training set: {:.2f}'\n",
    "     .format(lda.score(X_train, y_train)))\n",
    "print('Accuracy of LDA classifier on test set: {:.2f}'\n",
    "     .format(lda.score(X_test, y_test)))"
   ]
  },
  {
   "cell_type": "code",
   "execution_count": 21,
   "metadata": {},
   "outputs": [
    {
     "name": "stdout",
     "output_type": "stream",
     "text": [
      "Accuracy of GNB classifier on training set: 0.71\n",
      "Accuracy of GNB classifier on test set: 0.61\n"
     ]
    }
   ],
   "source": [
    "from sklearn.naive_bayes import GaussianNB\n",
    "gnb = GaussianNB()\n",
    "gnb.fit(X_train, y_train)\n",
    "print('Accuracy of GNB classifier on training set: {:.2f}'\n",
    "     .format(gnb.score(X_train, y_train)))\n",
    "print('Accuracy of GNB classifier on test set: {:.2f}'\n",
    "     .format(gnb.score(X_test, y_test)))"
   ]
  },
  {
   "cell_type": "code",
   "execution_count": 22,
   "metadata": {},
   "outputs": [
    {
     "name": "stdout",
     "output_type": "stream",
     "text": [
      "Accuracy of SVM classifier on training set: 0.76\n",
      "Accuracy of SVM classifier on test set: 0.63\n"
     ]
    },
    {
     "name": "stderr",
     "output_type": "stream",
     "text": [
      "C:\\Users\\L30907\\AppData\\Local\\Continuum\\anaconda3\\lib\\site-packages\\sklearn\\svm\\base.py:196: FutureWarning: The default value of gamma will change from 'auto' to 'scale' in version 0.22 to account better for unscaled features. Set gamma explicitly to 'auto' or 'scale' to avoid this warning.\n",
      "  \"avoid this warning.\", FutureWarning)\n"
     ]
    }
   ],
   "source": [
    "from sklearn.svm import SVC\n",
    "svm = SVC()\n",
    "svm.fit(X_train, y_train)\n",
    "print('Accuracy of SVM classifier on training set: {:.2f}'\n",
    "     .format(svm.score(X_train, y_train)))\n",
    "print('Accuracy of SVM classifier on test set: {:.2f}'\n",
    "     .format(svm.score(X_test, y_test)))"
   ]
  },
  {
   "cell_type": "code",
   "execution_count": null,
   "metadata": {},
   "outputs": [],
   "source": []
  }
 ],
 "metadata": {
  "kernelspec": {
   "display_name": "Python 3",
   "language": "python",
   "name": "python3"
  },
  "language_info": {
   "codemirror_mode": {
    "name": "ipython",
    "version": 3
   },
   "file_extension": ".py",
   "mimetype": "text/x-python",
   "name": "python",
   "nbconvert_exporter": "python",
   "pygments_lexer": "ipython3",
   "version": "3.6.5"
  }
 },
 "nbformat": 4,
 "nbformat_minor": 2
}
